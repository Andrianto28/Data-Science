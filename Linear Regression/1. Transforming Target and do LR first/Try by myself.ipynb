{
 "cells": [
  {
   "cell_type": "markdown",
   "metadata": {},
   "source": [
    "# Transforming Target"
   ]
  },
  {
   "cell_type": "code",
   "execution_count": 1,
   "metadata": {},
   "outputs": [],
   "source": [
    "import numpy as np\n",
    "import pandas as pd\n",
    "import matplotlib.pyplot as plt\n",
    "%matplotlib inline\n",
    "\n",
    "from helper import (plot_exponential_data, \n",
    "                    plot_square_normal_data)\n",
    "\n",
    "import warnings\n",
    "warnings.simplefilter(\"ignore\")"
   ]
  },
  {
   "cell_type": "markdown",
   "metadata": {},
   "source": [
    "### Load Data\n",
    "- helper.py file is include boston data \n"
   ]
  },
  {
   "cell_type": "code",
   "execution_count": 2,
   "metadata": {},
   "outputs": [],
   "source": [
    "from helper import boston_dataframe\n",
    "boston_data = boston_dataframe()"
   ]
  },
  {
   "cell_type": "code",
   "execution_count": 4,
   "metadata": {},
   "outputs": [
    {
     "name": "stdout",
     "output_type": "stream",
     "text": [
      "      CRIM    ZN  INDUS  CHAS    NOX     RM   AGE     DIS  RAD    TAX  \\\n",
      "0  0.00632  18.0   2.31   0.0  0.538  6.575  65.2  4.0900  1.0  296.0   \n",
      "1  0.02731   0.0   7.07   0.0  0.469  6.421  78.9  4.9671  2.0  242.0   \n",
      "2  0.02729   0.0   7.07   0.0  0.469  7.185  61.1  4.9671  2.0  242.0   \n",
      "3  0.03237   0.0   2.18   0.0  0.458  6.998  45.8  6.0622  3.0  222.0   \n",
      "4  0.06905   0.0   2.18   0.0  0.458  7.147  54.2  6.0622  3.0  222.0   \n",
      "\n",
      "   PTRATIO       B  LSTAT  MEDV  \n",
      "0     15.3  396.90   4.98  24.0  \n",
      "1     17.8  396.90   9.14  21.6  \n",
      "2     17.8  392.83   4.03  34.7  \n",
      "3     18.7  394.63   2.94  33.4  \n",
      "4     18.7  396.90   5.33  36.2  \n",
      "(506, 14)\n"
     ]
    }
   ],
   "source": [
    "print(boston_data.head())\n",
    "print(boston_data.shape)"
   ]
  },
  {
   "cell_type": "markdown",
   "metadata": {},
   "source": [
    "### MEmvisualisasikan kolom target\n",
    "- mengecek apakah kolom target berdistribusi normal"
   ]
  },
  {
   "cell_type": "code",
   "execution_count": 6,
   "metadata": {},
   "outputs": [
    {
     "data": {
      "text/plain": [
       "<AxesSubplot:>"
      ]
     },
     "execution_count": 6,
     "metadata": {},
     "output_type": "execute_result"
    },
    {
     "data": {
      "image/png": "[encoded data removed]",
      "text/plain": [
       "<Figure size 432x288 with 1 Axes>"
      ]
     },
     "metadata": {
      "needs_background": "light"
     },
     "output_type": "display_data"
    }
   ],
   "source": [
    "boston_data[\"MEDV\"].hist()"
   ]
  },
  {
   "cell_type": "markdown",
   "metadata": {},
   "source": [
    "Terlihat bahwa grafik merupakan grafik yang mencirikan data right tail"
   ]
  },
  {
   "cell_type": "code",
   "execution_count": 8,
   "metadata": {},
   "outputs": [],
   "source": [
    "from scipy.stats.mstats import normaltest\n",
    "#mengecek p value distribusi"
   ]
  },
  {
   "cell_type": "markdown",
   "metadata": {},
   "source": [
    "Test distribusi normal\n",
    "- hipotesa null H0 = data tidak berdistribusi normal\n",
    "- hipotesa 1 = data berdistibusi normal berdistribusi normal\n",
    "- jika p-value lebih besar dari 0.05 (p>0.05) maka menolak hipotesa null"
   ]
  },
  {
   "cell_type": "code",
   "execution_count": 9,
   "metadata": {},
   "outputs": [
    {
     "data": {
      "text/plain": [
       "NormaltestResult(statistic=90.9746873700967, pvalue=1.7583188871696095e-20)"
      ]
     },
     "execution_count": 9,
     "metadata": {},
     "output_type": "execute_result"
    }
   ],
   "source": [
    "normaltest(boston_data[\"MEDV\"].values)"
   ]
  },
  {
   "cell_type": "markdown",
   "metadata": {},
   "source": [
    "p-value sangat kecil maka hipotesa gagal menolak H0\n",
    "\n",
    "jadi harus mentranformasi distribusi data dengan menggunakan tranformasi :\n",
    "- Log\n",
    "- Square Root\n",
    "- Box cox"
   ]
  },
  {
   "cell_type": "markdown",
   "metadata": {},
   "source": [
    "### Testing Log\n",
    "Tranformasi log bisa efektif mentranformasi data dengan skewd right (miring kekanan)"
   ]
  },
  {
   "cell_type": "code",
   "execution_count": 10,
   "metadata": {},
   "outputs": [
    {
     "data": {
      "image/png": "[encoded data removed]",
      "text/plain": [
       "<Figure size 432x288 with 1 Axes>"
      ]
     },
     "metadata": {
      "needs_background": "light"
     },
     "output_type": "display_data"
    }
   ],
   "source": [
    "data = plot_exponential_data() #skewd right"
   ]
  },
  {
   "cell_type": "code",
   "execution_count": 11,
   "metadata": {},
   "outputs": [
    {
     "data": {
      "text/plain": [
       "(array([  8.,  33.,  83., 182., 215., 217., 153.,  74.,  31.,   4.]),\n",
       " array([-2.84528637, -2.26277091, -1.68025545, -1.09773998, -0.51522452,\n",
       "         0.06729094,  0.6498064 ,  1.23232187,  1.81483733,  2.39735279,\n",
       "         2.97986826]),\n",
       " <BarContainer object of 10 artists>)"
      ]
     },
     "execution_count": 11,
     "metadata": {},
     "output_type": "execute_result"
    },
    {
     "data": {
      "image/png": "[encoded data removed]",
      "text/plain": [
       "<Figure size 432x288 with 1 Axes>"
      ]
     },
     "metadata": {
      "needs_background": "light"
     },
     "output_type": "display_data"
    }
   ],
   "source": [
    "plt.hist(np.log(data)) #setelah di transform"
   ]
  },
  {
   "cell_type": "markdown",
   "metadata": {},
   "source": [
    "#### Terapkan di Data"
   ]
  },
  {
   "cell_type": "code",
   "execution_count": 12,
   "metadata": {},
   "outputs": [],
   "source": [
    "log_medv = np.log(boston_data[\"MEDV\"])"
   ]
  },
  {
   "cell_type": "code",
   "execution_count": 13,
   "metadata": {},
   "outputs": [
    {
     "data": {
      "text/plain": [
       "<AxesSubplot:>"
      ]
     },
     "execution_count": 13,
     "metadata": {},
     "output_type": "execute_result"
    },
    {
     "data": {
      "image/png": "[encoded data removed]",
      "text/plain": [
       "<Figure size 432x288 with 1 Axes>"
      ]
     },
     "metadata": {
      "needs_background": "light"
     },
     "output_type": "display_data"
    }
   ],
   "source": [
    "log_medv.hist()"
   ]
  },
  {
   "cell_type": "code",
   "execution_count": 14,
   "metadata": {},
   "outputs": [
    {
     "data": {
      "text/plain": [
       "NormaltestResult(statistic=17.21801696640697, pvalue=0.00018245472768345307)"
      ]
     },
     "execution_count": 14,
     "metadata": {},
     "output_type": "execute_result"
    }
   ],
   "source": [
    "#test normalisasi\n",
    "normaltest(log_medv)"
   ]
  },
  {
   "cell_type": "markdown",
   "metadata": {},
   "source": [
    "H0 masih belum bisa ditolak, karena pvalue 0.0018"
   ]
  },
  {
   "cell_type": "markdown",
   "metadata": {},
   "source": [
    "### Testing Square Root\n",
    "tranformasi kuadrat juga bisa mentraformasi data menajadi data yang berdistrbusi normal"
   ]
  },
  {
   "cell_type": "code",
   "execution_count": 16,
   "metadata": {},
   "outputs": [
    {
     "data": {
      "image/png": "[encoded data removed]",
      "text/plain": [
       "<Figure size 432x288 with 1 Axes>"
      ]
     },
     "metadata": {
      "needs_background": "light"
     },
     "output_type": "display_data"
    }
   ],
   "source": [
    "data = plot_square_normal_data() \n",
    "# contoh hasil\n",
    "#ini histogram data yang skewed right"
   ]
  },
  {
   "cell_type": "code",
   "execution_count": 17,
   "metadata": {},
   "outputs": [
    {
     "data": {
      "text/plain": [
       "(array([ 13.,  33.,  98., 170., 248., 214., 148.,  50.,  20.,   6.]),\n",
       " array([2.10006642, 2.70868895, 3.31731148, 3.92593402, 4.53455655,\n",
       "        5.14317908, 5.75180162, 6.36042415, 6.96904668, 7.57766921,\n",
       "        8.18629175]),\n",
       " <BarContainer object of 10 artists>)"
      ]
     },
     "execution_count": 17,
     "metadata": {},
     "output_type": "execute_result"
    },
    {
     "data": {
      "image/png": "[encoded data removed]",
      "text/plain": [
       "<Figure size 432x288 with 1 Axes>"
      ]
     },
     "metadata": {
      "needs_background": "light"
     },
     "output_type": "display_data"
    }
   ],
   "source": [
    "plt.hist(np.sqrt(data))"
   ]
  },
  {
   "cell_type": "markdown",
   "metadata": {},
   "source": [
    "setelah ditraformasi data terlihat berdistribusi normal"
   ]
  },
  {
   "cell_type": "markdown",
   "metadata": {},
   "source": [
    "### Terapkan pada data Boston"
   ]
  },
  {
   "cell_type": "code",
   "execution_count": 18,
   "metadata": {},
   "outputs": [
    {
     "data": {
      "text/plain": [
       "(array([  9.,  18.,  40.,  67., 131., 121.,  48.,  36.,  10.,  26.]),\n",
       " array([2.23606798, 2.71956796, 3.20306794, 3.68656793, 4.17006791,\n",
       "        4.65356789, 5.13706788, 5.62056786, 6.10406784, 6.58756783,\n",
       "        7.07106781]),\n",
       " <BarContainer object of 10 artists>)"
      ]
     },
     "execution_count": 18,
     "metadata": {},
     "output_type": "execute_result"
    },
    {
     "data": {
      "image/png": "[encoded data removed]",
      "text/plain": [
       "<Figure size 432x288 with 1 Axes>"
      ]
     },
     "metadata": {
      "needs_background": "light"
     },
     "output_type": "display_data"
    }
   ],
   "source": [
    "sqrt_medv = np.sqrt(boston_data[\"MEDV\"])\n",
    "plt.hist(sqrt_medv)"
   ]
  },
  {
   "cell_type": "code",
   "execution_count": 20,
   "metadata": {},
   "outputs": [
    {
     "data": {
      "text/plain": [
       "NormaltestResult(statistic=20.487090826863067, pvalue=3.558645701429252e-05)"
      ]
     },
     "execution_count": 20,
     "metadata": {},
     "output_type": "execute_result"
    }
   ],
   "source": [
    "#cek normalisasi\n",
    "normaltest(sqrt_medv)"
   ]
  },
  {
   "cell_type": "markdown",
   "metadata": {},
   "source": [
    "masih jauh dari syarat ditolaknya H0 (pvalue > 0.05)"
   ]
  },
  {
   "cell_type": "markdown",
   "metadata": {},
   "source": [
    "## Box cox\n",
    "Metode Box cox aadalah metode yang dirancang untuk mengusahakan perubahan distrbusi pada data menjadi normal\n",
    "fungsinya\n",
    "$$ \\text{boxcox}(y_i) = \\frac{y_i^{\\lambda} - 1}{\\lambda} $$\n",
    "\n",
    "komponen lamba merupakan koefisien pendukung perubahan tranformasi, dengan library boxcox yang sudah disediakan scpy kita bisa melakukanya"
   ]
  },
  {
   "cell_type": "code",
   "execution_count": 21,
   "metadata": {},
   "outputs": [],
   "source": [
    "from scipy.stats import boxcox"
   ]
  },
  {
   "cell_type": "code",
   "execution_count": 25,
   "metadata": {},
   "outputs": [
    {
     "data": {
      "text/plain": [
       "array([4.57293637, 4.36558166, 5.33694273, 5.25495447, 5.42860689,\n",
       "       4.93592663, 4.48001683, 4.81796329, 3.85654088, 4.10949441,\n",
       "       3.68340136, 4.10949441, 4.37457314, 4.25505556, 4.03844836,\n",
       "       4.20749535, 4.49716757, 3.96522837, 4.23614226, 4.03844836,\n",
       "       3.50909851, 4.17850811, 3.70724917, 3.62267296, 3.75421675,\n",
       "       3.54759408, 3.86763825, 3.65930314, 4.05896259, 4.31093716,\n",
       "       3.38947462, 3.62267296, 3.45672253, 3.44343457, 3.49611884,\n",
       "       4.10949441, 4.21708168, 4.31093716, 4.63034334, 5.08317362,\n",
       "       5.34934183, 4.77998166, 4.67854354, 4.63034334, 4.32928636,\n",
       "       4.14917118, 4.21708168, 3.86763825, 3.61033098, 4.15898961,\n",
       "       4.18820891, 4.26445779, 4.65455672, 4.52267685, 4.10949441,\n",
       "       5.3800978 , 4.63034334, 5.1372014 , 4.51420237, 4.17850811,\n",
       "       4.08940884, 3.80025017, 4.41904971, 4.65455672, 5.2292247 ,\n",
       "       4.53112301, 4.15898961, 4.40135419, 3.95458193, 4.30171118,\n",
       "       4.58947077, 4.37457314, 4.47139742, 4.52267685, 4.58121701,\n",
       "       4.34750044, 4.21708168, 4.29245055, 4.32928636, 4.24561716,\n",
       "       4.88496846, 4.56462866, 4.63843994, 4.48001683, 4.56462866,\n",
       "       4.77998166, 4.44536027, 4.41904971, 4.53954106, 4.93592663,\n",
       "       4.45406938, 4.40135419, 4.48001683, 4.65455672, 4.27382416,\n",
       "       4.91420798, 4.34750044, 5.57497399, 5.85196639, 5.24211994,\n",
       "       4.84795531, 4.77231832, 4.07930288, 4.14917118, 4.22663054,\n",
       "       4.16876846, 4.16876846, 4.25505556, 4.19787121, 4.15898961,\n",
       "       4.37457314, 4.47139742, 4.09947255, 4.08940884, 4.06915427,\n",
       "       4.04872743, 4.32928636, 4.13931283, 4.25505556, 4.14917118,\n",
       "       4.40135419, 4.24561716, 4.26445779, 3.94388745, 4.09947255,\n",
       "       4.34750044, 3.76581102, 3.82292958, 4.01775677, 3.59792167,\n",
       "       4.13931283, 4.17850811, 4.4886068 , 4.05896259, 3.75421675,\n",
       "       4.02812495, 3.95458193, 3.92235239, 3.46993187, 3.99688428,\n",
       "       3.56028128, 3.61033098, 3.48306363, 3.75421675, 3.2630138 ,\n",
       "       3.53483518, 3.75421675, 3.63494845, 3.99688428, 3.73085242,\n",
       "       4.35655752, 4.17850811, 3.71908101, 4.15898961, 3.91151078,\n",
       "       3.75421675, 3.44343457, 5.7195379 , 4.59769786, 4.51420237,\n",
       "       4.81041115, 6.15652607, 6.15652607, 6.15652607, 4.46274835,\n",
       "       4.65455672, 6.15652607, 4.55629368, 4.55629368, 4.42785068,\n",
       "       3.95458193, 4.12941417, 4.49716757, 4.53954106, 4.45406938,\n",
       "       4.98592025, 4.50569935, 4.62222102, 5.02106203, 5.48807609,\n",
       "       5.63703686, 5.42860689, 5.52896357, 5.19671664, 4.76463229,\n",
       "       5.00003273, 6.15652607, 5.16381441, 5.01407071, 5.34934183,\n",
       "       5.47628332, 5.06262961, 5.44060278, 5.10356146, 4.96460985,\n",
       "       6.15652607, 5.24854476, 5.0488455 , 5.33072218, 5.34934183,\n",
       "       5.22275411, 4.58121701, 5.77324341, 6.08567947, 6.15652607,\n",
       "       4.45406938, 4.60589847, 4.44536027, 4.60589847, 4.21708168,\n",
       "       4.37457314, 4.14917118, 4.43662078, 4.89230887, 4.54793121,\n",
       "       4.65455672, 4.51420237, 4.93592663, 4.35655752, 4.4886068 ,\n",
       "       4.78762246, 4.37457314, 4.84795531, 5.03498992, 5.90328261,\n",
       "       6.15652607, 5.51151342, 5.1372014 , 5.99836093, 5.13050694,\n",
       "       4.59769786, 5.14387928, 5.74114106, 6.07610405, 4.95746814,\n",
       "       4.57293637, 4.66257726, 5.13050694, 4.54793121, 4.51420237,\n",
       "       4.40135419, 4.22663054, 4.41904971, 4.54793121, 3.97582725,\n",
       "       4.06915427, 4.59769786, 4.26445779, 4.6140728 , 4.74919156,\n",
       "       4.60589847, 4.63843994, 5.00003273, 5.799724  , 4.39245914,\n",
       "       4.30171118, 5.86230253, 6.15652607, 5.41655897, 5.03498992,\n",
       "       5.28044397, 5.81549623, 6.09998476, 5.0967827 , 5.44658138,\n",
       "       4.47139742, 5.0763431 , 6.15652607, 5.83639265, 4.28315498,\n",
       "       4.32012879, 4.67057281, 4.60589847, 5.3678365 , 5.19016808,\n",
       "       5.16381441, 5.24211994, 5.23567995, 4.96460985, 5.36168538,\n",
       "       5.93364307, 5.3800978 , 5.96369082, 6.15652607, 5.1770233 ,\n",
       "       4.40135419, 4.22663054, 4.50569935, 4.42785068, 4.63843994,\n",
       "       4.92146742, 5.49395386, 4.87760749, 4.56462866, 4.37457314,\n",
       "       4.92870692, 4.81796329, 4.24561716, 4.44536027, 4.95746814,\n",
       "       4.63843994, 4.40135419, 4.76463229, 5.23567995, 5.42258947,\n",
       "       4.91420798, 5.25495447, 4.89962884, 4.47139742, 4.24561716,\n",
       "       3.81161746, 4.41021763, 4.15898961, 4.36558166, 4.55629368,\n",
       "       3.82292958, 3.99688428, 4.19787121, 4.49716757, 4.31093716,\n",
       "       4.55629368, 4.49716757, 4.25505556, 4.06915427, 4.65455672,\n",
       "       4.62222102, 4.4886068 , 4.41904971, 4.14917118, 4.45406938,\n",
       "       4.19787121, 3.92235239, 4.15898961, 4.41904971, 4.28315498,\n",
       "       4.32012879, 4.16876846, 4.06915427, 4.27382416, 4.11947482,\n",
       "       4.08940884, 5.20976657, 3.85654088, 4.56462866, 5.11032317,\n",
       "       3.96522837, 3.93314444, 4.49716757, 4.6140728 , 4.77998166,\n",
       "       4.48001683, 4.58121701, 4.07930288, 5.03498992, 4.03844836,\n",
       "       4.27382416, 3.99688428, 4.37457314, 4.46274835, 4.45406938,\n",
       "       4.65455672, 4.20749535, 4.29245055, 3.88967681, 4.39245914,\n",
       "       4.84795531, 4.39245914, 4.49716757, 6.15652607, 6.15652607,\n",
       "       6.15652607, 6.15652607, 6.15652607, 3.53483518, 3.53483518,\n",
       "       3.68340136, 3.54759408, 3.46993187, 3.44343457, 3.01819163,\n",
       "       3.05037296, 3.1287559 , 3.18945869, 3.33416642, 2.77789369,\n",
       "       2.46335537, 3.06628215, 2.50549977, 3.01819163, 3.21918087,\n",
       "       3.6953562 , 4.50569935, 2.93551931, 3.53483518, 3.38947462,\n",
       "       3.44343457, 3.36199384, 2.7225443 , 1.92564954, 2.26150315,\n",
       "       2.08823927, 2.46335537, 3.30598225, 2.68478853, 2.7225443 ,\n",
       "       1.92564954, 3.27743075, 4.87760749, 3.93314444, 4.84795531,\n",
       "       3.68340136, 3.93314444, 4.00734336, 3.83418713, 2.42028366,\n",
       "       2.46335537, 2.52623818, 3.05037296, 2.77789369, 2.70375445,\n",
       "       3.87868337, 3.58544419, 4.29245055, 3.48306363, 3.24850083,\n",
       "       2.68478853, 3.01819163, 3.1287559 , 3.14409313, 2.90151373,\n",
       "       3.62267296, 3.57289769, 3.81161746, 3.59792167, 3.24850083,\n",
       "       3.48306363, 2.9185859 , 2.75961042, 2.70375445, 3.40308806,\n",
       "       3.06628215, 3.92235239, 4.05896259, 3.73085242, 3.11330805,\n",
       "       3.2630138 , 3.67138393, 3.37577694, 3.57289769, 3.4300669 ,\n",
       "       3.48306363, 3.70724917, 3.81161746, 3.99688428, 3.67138393,\n",
       "       3.57289769, 3.38947462, 3.49611884, 3.67138393, 4.21708168,\n",
       "       3.8453907 , 3.98637906, 4.16876846, 4.23614226, 4.34750044,\n",
       "       4.20749535, 4.11947482, 4.12941417, 4.12941417, 4.22663054,\n",
       "       4.20749535, 4.17850811, 4.50569935, 5.01407071, 3.53483518,\n",
       "       3.46993187, 3.87868337, 3.2917531 , 3.63494845, 4.34750044,\n",
       "       4.4886068 , 4.54793121, 4.65455672, 4.3835322 , 4.27382416,\n",
       "       4.32928636, 4.12941417, 4.27382416, 3.70724917, 2.42028366,\n",
       "       2.6463132 , 3.50909851, 4.22663054, 4.3835322 , 4.6140728 ,\n",
       "       4.49716757, 4.18820891, 4.04872743, 4.32928636, 3.96522837,\n",
       "       3.88967681, 4.43662078, 4.27382416, 4.56462866, 4.40135419,\n",
       "       3.27743075])"
      ]
     },
     "execution_count": 25,
     "metadata": {},
     "output_type": "execute_result"
    }
   ],
   "source": [
    "hasil_bc = boxcox(boston_data[\"MEDV\"])\n",
    "\n",
    "#nilai tranformasi boxcox\n",
    "boxcox_medv = hasil_bc[0]\n",
    "boxcox_medv"
   ]
  },
  {
   "cell_type": "code",
   "execution_count": 26,
   "metadata": {},
   "outputs": [
    {
     "data": {
      "text/plain": [
       "0.2166209012915364"
      ]
     },
     "execution_count": 26,
     "metadata": {},
     "output_type": "execute_result"
    }
   ],
   "source": [
    "# koefien boxcox \n",
    "lamda = hasil_bc[1]\n",
    "lamda"
   ]
  },
  {
   "cell_type": "code",
   "execution_count": 27,
   "metadata": {},
   "outputs": [
    {
     "data": {
      "text/plain": [
       "<AxesSubplot:>"
      ]
     },
     "execution_count": 27,
     "metadata": {},
     "output_type": "execute_result"
    },
    {
     "data": {
      "image/png": "[encoded data removed]",
      "text/plain": [
       "<Figure size 432x288 with 1 Axes>"
      ]
     },
     "metadata": {
      "needs_background": "light"
     },
     "output_type": "display_data"
    }
   ],
   "source": [
    "# lihat kembali distribusi data boston\n",
    "# sebelum tranformasi\n",
    "boston_data[\"MEDV\"].hist()"
   ]
  },
  {
   "cell_type": "code",
   "execution_count": 29,
   "metadata": {},
   "outputs": [
    {
     "data": {
      "text/plain": [
       "(array([  4.,  15.,  17.,  49.,  68., 151.,  99.,  50.,  23.,  30.]),\n",
       " array([1.92564954, 2.3487372 , 2.77182485, 3.1949125 , 3.61800016,\n",
       "        4.04108781, 4.46417546, 4.88726311, 5.31035077, 5.73343842,\n",
       "        6.15652607]),\n",
       " <BarContainer object of 10 artists>)"
      ]
     },
     "execution_count": 29,
     "metadata": {},
     "output_type": "execute_result"
    },
    {
     "data": {
      "image/png": "[encoded data removed]",
      "text/plain": [
       "<Figure size 432x288 with 1 Axes>"
      ]
     },
     "metadata": {
      "needs_background": "light"
     },
     "output_type": "display_data"
    }
   ],
   "source": [
    "# bandingkan dengan setelah tranformasi boxcox\n",
    "plt.hist(boxcox_medv)"
   ]
  },
  {
   "cell_type": "markdown",
   "metadata": {},
   "source": [
    "terlihat bergeser kan, sekarang tes normalisasinya"
   ]
  },
  {
   "cell_type": "code",
   "execution_count": 30,
   "metadata": {},
   "outputs": [
    {
     "data": {
      "text/plain": [
       "NormaltestResult(statistic=4.513528775533045, pvalue=0.1046886692817602)"
      ]
     },
     "execution_count": 30,
     "metadata": {},
     "output_type": "execute_result"
    }
   ],
   "source": [
    "normaltest(boxcox_medv)"
   ]
  },
  {
   "cell_type": "markdown",
   "metadata": {},
   "source": [
    "test boxcox menunjukan p value yang lebih besar > 0.05 maka hipotesa null dapat ditolak"
   ]
  },
  {
   "cell_type": "markdown",
   "metadata": {},
   "source": [
    "## Testing Regression"
   ]
  },
  {
   "cell_type": "code",
   "execution_count": 33,
   "metadata": {},
   "outputs": [],
   "source": [
    "from sklearn.linear_model import LinearRegression\n",
    "from sklearn.metrics import r2_score\n",
    "from sklearn.model_selection import train_test_split\n",
    "from sklearn.preprocessing import (StandardScaler,\n",
    "                                  PolynomialFeatures)"
   ]
  },
  {
   "cell_type": "code",
   "execution_count": 34,
   "metadata": {},
   "outputs": [],
   "source": [
    "# membangun model linear dengan mengambil fungsinya\n",
    "lr = LinearRegression()"
   ]
  },
  {
   "cell_type": "markdown",
   "metadata": {},
   "source": [
    "### Load data boston awal"
   ]
  },
  {
   "cell_type": "code",
   "execution_count": 35,
   "metadata": {},
   "outputs": [],
   "source": [
    "boston_data = boston_dataframe()"
   ]
  },
  {
   "cell_type": "markdown",
   "metadata": {},
   "source": [
    "### Membuat X dan y"
   ]
  },
  {
   "cell_type": "code",
   "execution_count": 36,
   "metadata": {},
   "outputs": [],
   "source": [
    "X = boston_data.drop(\"MEDV\", axis = 1)\n",
    "y = boston_data[\"MEDV\"]"
   ]
  },
  {
   "cell_type": "markdown",
   "metadata": {},
   "source": [
    "### membuat polinomial feature\n",
    "Polynomial features are those features created by raising existing features to an exponent. For example, if a dataset had one input feature X, then a polynomial feature would be the addition of a new feature (column) where values were calculated by squaring the values in X, e.g. X^2\n",
    "<br>\n",
    "\n"
   ]
  },
  {
   "cell_type": "code",
   "execution_count": 37,
   "metadata": {},
   "outputs": [],
   "source": [
    "pf = PolynomialFeatures(degree=2, include_bias=False)\n",
    "X_pf = pf.fit_transform(X)"
   ]
  },
  {
   "cell_type": "markdown",
   "metadata": {},
   "source": [
    "### Train Test Split"
   ]
  },
  {
   "cell_type": "code",
   "execution_count": 38,
   "metadata": {},
   "outputs": [],
   "source": [
    "X_train, Xtest, y_train, y_test = train_test_split(X_pf, y, test_size = 0.3,\n",
    "                                                  random_state=42)"
   ]
  },
  {
   "cell_type": "markdown",
   "metadata": {},
   "source": [
    "### Fit `StandardScaler` pada X_train\n",
    "StandardScaler standardizes a feature by subtracting the mean and then scaling to unit variance. Unit variance means dividing all the values by the standard deviation. StandardScaler does not meet the strict definition of scale I introduced earlier.\n"
   ]
  },
  {
   "cell_type": "code",
   "execution_count": 39,
   "metadata": {},
   "outputs": [],
   "source": [
    "# mengubah fitur X menjadi exponen kuadrat\n",
    "s = StandardScaler()\n",
    "X_train_s = s.fit_transform(X_train)"
   ]
  },
  {
   "cell_type": "markdown",
   "metadata": {},
   "source": [
    "### ubah y_train agar terdistibusi normal\n",
    "menggunakan fitur boxcos"
   ]
  },
  {
   "cell_type": "code",
   "execution_count": 40,
   "metadata": {},
   "outputs": [],
   "source": [
    "hasil_bc = boxcox(y_train)\n",
    "y_train_bc = hasil_bc[0]\n",
    "lamda_y_train = hasil_bc[1]"
   ]
  },
  {
   "cell_type": "markdown",
   "metadata": {},
   "source": [
    "ALur pengerjaan regresi\n",
    "1. Fit regresion\n",
    "2. tranform data test\n",
    "3. prediksi data test"
   ]
  },
  {
   "cell_type": "code",
   "execution_count": 43,
   "metadata": {},
   "outputs": [
    {
     "name": "stdout",
     "output_type": "stream",
     "text": [
      "(354, 104)\n",
      "(354,)\n"
     ]
    }
   ],
   "source": [
    "print(X_train_s.shape)\n",
    "print(y_train_bc.shape)"
   ]
  },
  {
   "cell_type": "code",
   "execution_count": 46,
   "metadata": {},
   "outputs": [],
   "source": [
    "# panggil model lr (fungsi linear regression)\n",
    "lr.fit(X_train_s, y_train_bc)\n",
    "\n",
    "#operasi data data test\n",
    "X_test_s = s.transform(Xtest) #tranform scaler X_test\n",
    "y_pred_bc = lr.predict(X_test_s) #Prediksi y"
   ]
  },
  {
   "cell_type": "markdown",
   "metadata": {},
   "source": [
    "### Melakukan Scoring pada data prediksi"
   ]
  },
  {
   "cell_type": "markdown",
   "metadata": {},
   "source": [
    "#### invers tranformasi\n",
    "Every transformation has an inverse transformation. The inverse transformation of $f(x) = \\sqrt{x}$ is $f^{-1}(x) = x^2$, for example. Box cox has an inverse transformation as well: notice that we have to pass in the lambda value that we found from before:"
   ]
  },
  {
   "cell_type": "code",
   "execution_count": 47,
   "metadata": {},
   "outputs": [],
   "source": [
    "from scipy.special import inv_boxcox"
   ]
  },
  {
   "cell_type": "code",
   "execution_count": 48,
   "metadata": {},
   "outputs": [],
   "source": [
    "# contoh tranformasi\n",
    "bc_result = boxcox(boston_data.MEDV)\n",
    "boxcox_medv1 = bc_result[0]\n",
    "lam = bc_result[1]"
   ]
  },
  {
   "cell_type": "code",
   "execution_count": 49,
   "metadata": {},
   "outputs": [
    {
     "data": {
      "text/plain": [
       "array([24. , 21.6, 34.7, 33.4, 36.2, 28.7, 22.9, 27.1, 16.5, 18.9])"
      ]
     },
     "execution_count": 49,
     "metadata": {},
     "output_type": "execute_result"
    }
   ],
   "source": [
    "inv_boxcox(boxcox_medv1, lam)[:10]"
   ]
  },
  {
   "cell_type": "code",
   "execution_count": 50,
   "metadata": {},
   "outputs": [
    {
     "data": {
      "text/plain": [
       "array([24. , 21.6, 34.7, 33.4, 36.2, 28.7, 22.9, 27.1, 16.5, 18.9])"
      ]
     },
     "execution_count": 50,
     "metadata": {},
     "output_type": "execute_result"
    }
   ],
   "source": [
    "boston_data[\"MEDV\"].values[:10]"
   ]
  },
  {
   "cell_type": "markdown",
   "metadata": {},
   "source": [
    "Sama"
   ]
  },
  {
   "cell_type": "markdown",
   "metadata": {},
   "source": [
    "### melakukan tranformasi pada data test\n",
    "#### y_pred_bc"
   ]
  },
  {
   "cell_type": "code",
   "execution_count": 51,
   "metadata": {},
   "outputs": [],
   "source": [
    "y_pred_tranformasi = inv_boxcox(y_pred_bc, lamda_y_train)"
   ]
  },
  {
   "cell_type": "code",
   "execution_count": 53,
   "metadata": {},
   "outputs": [
    {
     "data": {
      "text/plain": [
       "0.8082575518034532"
      ]
     },
     "execution_count": 53,
     "metadata": {},
     "output_type": "execute_result"
    }
   ],
   "source": [
    "r2_score(y_pred_tranformasi, y_test)"
   ]
  },
  {
   "cell_type": "markdown",
   "metadata": {},
   "source": [
    "## Coba train tanpa menggunakan tranformasi dan standardscaler"
   ]
  },
  {
   "cell_type": "code",
   "execution_count": 56,
   "metadata": {},
   "outputs": [
    {
     "data": {
      "text/plain": [
       "0.6828427551430039"
      ]
     },
     "execution_count": 56,
     "metadata": {},
     "output_type": "execute_result"
    }
   ],
   "source": [
    "lr = LinearRegression()\n",
    "lr.fit(X_train, y_train)\n",
    "y_pred = lr.predict(Xtest)\n",
    "r2_score(y_pred, y_test)"
   ]
  },
  {
   "cell_type": "markdown",
   "metadata": {},
   "source": [
    "perbedaan score sangat besar"
   ]
  },
  {
   "cell_type": "code",
   "execution_count": null,
   "metadata": {},
   "outputs": [],
   "source": []
  }
 ],
 "metadata": {
  "kernelspec": {
   "display_name": "Python 3",
   "language": "python",
   "name": "python3"
  },
  "language_info": {
   "codemirror_mode": {
    "name": "ipython",
    "version": 3
   },
   "file_extension": ".py",
   "mimetype": "text/x-python",
   "name": "python",
   "nbconvert_exporter": "python",
   "pygments_lexer": "ipython3",
   "version": "3.8.5"
  }
 },
 "nbformat": 4,
 "nbformat_minor": 4
}
